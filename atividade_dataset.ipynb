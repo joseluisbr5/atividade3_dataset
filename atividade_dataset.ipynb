{
  "nbformat": 4,
  "nbformat_minor": 0,
  "metadata": {
    "kernelspec": {
      "name": "python3",
      "display_name": "Python 3"
    },
    "language_info": {
      "name": "python"
    }
  },
  "cells": [
    {
      "cell_type": "markdown",
      "source": [
        "### Atividade 3 - C\u00f3digo Corrigido e Otimizado\n",
        "Este notebook cont\u00e9m o c\u00f3digo corrigido, seguindo a ordem l\u00f3gica correta para a limpeza e an\u00e1lise dos dados."
      ],
      "metadata": {}
    },
    {
      "cell_type": "markdown",
      "source": [
        "#### 1. Leitura dos Dados e Importa\u00e7\u00e3o das Bibliotecas"
      ],
      "metadata": {}
    },
    {
      "cell_type": "code",
      "execution_count": null,
      "metadata": {},
      "outputs": [],
      "source": [
        "import pandas as pd\n",
        "import numpy as np\n",
        "import matplotlib.pyplot as plt\n",
        "import seaborn as sns\n\n",
        "# A leitura j\u00e1 estava correta, usando o separador ';' e o decimal ','\n",
        "df = pd.read_csv('atividade3_dataset.csv', sep=';', decimal=',')\n\n",
        "print(\"Dados carregados com sucesso!\")\n",
        "df.head()"
      ]
    },
    {
      "cell_type": "markdown",
      "source": [
        "#### 2. Tratamento de Tipos e Valores Ausentes\n",
        "\u00c9 crucial converter as colunas para o tipo num\u00e9rico **ANTES** de realizar c\u00e1lculos como a mediana para evitar erros."
      ],
      "metadata": {}
    },
    {
      "cell_type": "code",
      "execution_count": null,
      "metadata": {},
      "outputs": [],
      "source": [
        "# Coluna 'Idade':\n",
        "# a) Converte a coluna para tipo num\u00e9rico. 'errors=coerce' transforma textos que n\u00e3o s\u00e3o n\u00fameros em NaN (Nulo).\n",
        "df['Idade'] = pd.to_numeric(df['Idade'], errors='coerce')\n\n",
        "# b) Agora que a coluna \u00e9 num\u00e9rica, calculamos a mediana.\n",
        "mediana_idade = df['Idade'].median()\n\n",
        "# c) Preenchemos todos os valores nulos (os originais e os criados pelo 'coerce') com a mediana.\n",
        "df['Idade'].fillna(mediana_idade, inplace=True)\n\n",
        "# Coluna 'Pre\u00e7o':\n",
        "# a) Removemos as linhas onde o pre\u00e7o \u00e9 nulo.\n",
        "df.dropna(subset=['Pre\u00e7o'], inplace=True)\n\n",
        "# b) Garantimos que a coluna 'Pre\u00e7o' \u00e9 num\u00e9rica (\u00e9 uma boa pr\u00e1tica ap\u00f3s remover nulos).\n",
        "df['Pre\u00e7o'] = pd.to_numeric(df['Pre\u00e7o'])\n\n",
        "print('Valores ausentes tratados e tipos de dados corrigidos.')\n",
        "df.info()"
      ]
    },
    {
      "cell_type": "markdown",
      "source": [
        "#### 3. Remo\u00e7\u00e3o de Duplicatas e Padroniza\u00e7\u00e3o dos Dados"
      ],
      "metadata": {}
    },
    {
      "cell_type": "code",
      "execution_count": null,
      "metadata": {},
      "outputs": [],
      "source": [
        "# a) Removemos linhas duplicadas.\n",
        "df.drop_duplicates(inplace=True)\n\n",
        "# b) Padronizamos a coluna 'Cidade' para mai\u00fasculas.\n",
        "df['Cidade'] = df['Cidade'].str.upper()\n\n",
        "# c) Convertemos a coluna de data.\n",
        "df['Data_Compra'] = pd.to_datetime(df['Data_Compra'], format='%d-%m-%Y')\n\n",
        "print(f\"Processo de padroniza\u00e7\u00e3o e remo\u00e7\u00e3o de duplicatas conclu\u00eddo. Total de duplicatas agora: {df.duplicated().sum()}\")"
      ]
    },
    {
      "cell_type": "markdown",
      "source": [
        "#### 4. Cria\u00e7\u00e3o de Novas Colunas (Feature Engineering)\n",
        "Com a coluna 'Pre\u00e7o' devidamente convertida para num\u00e9rica, o c\u00e1lculo funciona corretamente."
      ],
      "metadata": {}
    },
    {
      "cell_type": "code",
      "execution_count": null,
      "metadata": {},
      "outputs": [],
      "source": [
        "df['Valor_Total_Compra'] = df['Pre\u00e7o'] * df['Quantidade']\n",
        "print(\"Coluna 'Valor_Total_Compra' criada com sucesso.\")\n",
        "df.head()"
      ]
    },
    {
      "cell_type": "markdown",
      "source": [
        "#### 5. An\u00e1lise e Visualiza\u00e7\u00e3o"
      ],
      "metadata": {}
    },
    {
      "cell_type": "code",
      "execution_count": null,
      "metadata": {},
      "outputs": [],
      "source": [
        "print(\"--- Estat\u00edsticas Descritivas do DataFrame Limpo ---\")\n",
        "display(df.describe())"
      ]
    },
    {
      "cell_type": "code",
      "execution_count": null,
      "metadata": {},
      "outputs": [],
      "source": [
        "# Gr\u00e1fico de Histograma\n",
        "plt.figure(figsize=(10, 6))\n",
        "sns.set_style(\"whitegrid\")\n",
        "sns.histplot(df['Idade'], bins=20, kde=True, color='skyblue')\n",
        "plt.title('Distribui\u00e7\u00e3o da Idade dos Clientes', fontsize=16)\n",
        "plt.xlabel('Idade', fontsize=12)\n",
        "plt.ylabel('Frequ\u00eancia', fontsize=12)\n",
        "plt.show()"
      ]
    },
    {
      "cell_type": "code",
      "execution_count": null,
      "metadata": {},
      "outputs": [],
      "source": [
        "# Gr\u00e1fico de Correla\u00e7\u00e3o (Heatmap)\n",
        "plt.figure(figsize=(12, 8))\n",
        "numeric_cols = df.select_dtypes(include=np.number)\n",
        "correlation_matrix = numeric_cols.corr()\n",
        "sns.heatmap(correlation_matrix, annot=True, cmap='coolwarm', fmt=\".2f\")\n",
        "plt.title('Mapa de Calor da Correla\u00e7\u00e3o entre Vari\u00e1veis Num\u00e9ricas', fontsize=16)\n",
        "plt.show()"
      ]
    },
    {
      "cell_type": "markdown",
      "source": [
        "#### 6. Salvando o Resultado Final"
      ],
      "metadata": {}
    },
    {
      "cell_type": "code",
      "execution_count": null,
      "metadata": {},
      "outputs": [],
      "source": [
        "# Exportando o DataFrame limpo para um novo arquivo CSV\n",
        "df.to_csv('base_limpa.csv', index=False, sep=';', decimal=',')\n",
        "print(\"Arquivo 'base_limpa.csv' salvo com sucesso!\")"
      ]
    }
  ]
}